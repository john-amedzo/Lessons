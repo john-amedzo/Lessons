{
 "cells": [
  {
   "attachments": {},
   "cell_type": "markdown",
   "metadata": {},
   "source": [
    "<h1 style=\"\n",
    "  font-size: 30;\n",
    "  font-weight: 500;\n",
    "  color: rgb(190, 85, 10);\n",
    "\">\n",
    "Qiskit Installation Guide\n",
    "</h1>"
   ]
  },
  {
   "attachments": {},
   "cell_type": "markdown",
   "metadata": {},
   "source": [
    "<h2 style=\"\n",
    "  font-size: 30;\n",
    "  font-weight: 400;\n",
    "  color: rgba(3, 77, 108, 0.957);\n",
    "\">\n",
    "Background\n",
    "</h2>"
   ]
  },
  {
   "attachments": {},
   "cell_type": "markdown",
   "metadata": {},
   "source": [
    "- Qiskit is an open-source software development kit (SDK) provided by IBM Quantum that allows users to create, compile, and execute quantum circuits. using various backends. \n",
    "\n",
    "- It is designed to work with IBM Quantum devices, as well as simulators, to enable researchers and developers worldwide to experiment with quantum computing."
   ]
  },
  {
   "attachments": {},
   "cell_type": "markdown",
   "metadata": {},
   "source": [
    "- Qiskit is written in Python and provides a set of tools and libraries for quantum circuit design, optimization, and execution. \n",
    "\n",
    "- It consists of several components such as Terra, Aqua, Aer, Ignis, IBM Quantum,... "
   ]
  },
  {
   "attachments": {},
   "cell_type": "markdown",
   "metadata": {},
   "source": [
    "<ol>\n",
    "  <li>\n",
    "    Terra: The core foundation of Qiskit, which provides tools for circuit creation, manipulation, and visualization. It includes modules for creating quantum circuits, quantum gates, and measurements.\n",
    "    <p></p>\n",
    "  </li>\n",
    "\n",
    "  <li>\n",
    "    Aer: A module that provides a high-performance simulator framework for simulating quantum circuits on classical computers. It supports various simulation methods, including state vector simulation, unitary simulation, and noise modeling.\n",
    "    <p></p>\n",
    "  </li>\n",
    "\n",
    "  <li>\n",
    "    Aqua: A library built on top of Terra that focuses on quantum algorithms and applications. Aqua provides implementations of quantum algorithms for tasks such as optimization, chemistry simulations, and machine learning.\n",
    "    <p></p>\n",
    "  </li>\n",
    "\n",
    "  <li>\n",
    "    Ignis: A module for characterizing and mitigating noise in quantum systems. It offers tools for quantum error correction, calibration, and verification.\n",
    "    <p></p>\n",
    "  </li>\n",
    "\n",
    "  <li>\n",
    "    IBM Quantum: This component allows users to connect to IBM Quantum's cloud-based quantum computers and execute quantum circuits on real hardware. It provides access to IBM Quantum's backends and allows users to track the status of their jobs.\n",
    "    <p></p>\n",
    "  </li>\n",
    "</ol>"
   ]
  },
  {
   "attachments": {},
   "cell_type": "markdown",
   "metadata": {},
   "source": [
    "- Qiskit also has an active community and provides extensive documentation, tutorials, and examples to help users get started with quantum programming. \n",
    "\n",
    "- It has become one of the most popular frameworks for quantum computing and has been used in both research and education."
   ]
  },
  {
   "attachments": {},
   "cell_type": "markdown",
   "metadata": {},
   "source": [
    "----------------------------------------------------------------------------------------------------------------------------"
   ]
  },
  {
   "attachments": {},
   "cell_type": "markdown",
   "metadata": {},
   "source": [
    "<h2 style=\"\n",
    "  font-size: 30;\n",
    "  font-weight: 400;\n",
    "  color: rgba(3, 77, 108, 0.957);\n",
    "\">\n",
    "Installation\n",
    "</h2>"
   ]
  },
  {
   "attachments": {},
   "cell_type": "markdown",
   "metadata": {},
   "source": [
    "\n",
    "1. Qiskit requires Python 3.7 or later. \n",
    "\n",
    "- If you don't have Python installed, you can download it from the official Python website: \n",
    "\n",
    "> https://www.python.org/downloads/\n",
    "\n",
    " \n",
    "\n",
    "2. Create a virtual environment (optional but recommended). \n",
    "\n",
    "- It is recommended to use a virtual environment for Qiskit to avoid conflicts with other Python packages.\n",
    "\n",
    "- You can install the virtual environment module by running:\n",
    "\n",
    "> python3 -m pip install --user virtualenv.\n",
    "\n",
    "- Open a terminal or command prompt.\n",
    "\n",
    "- Navigate to the directory where you want to create the virtual environment.\n",
    "\n",
    "- Create a new virtual environment by running:\n",
    "\n",
    "> python3 -m venv qiskit-env\n",
    "\n",
    "\n",
    "3. Activate the virtual environment (skip this step if you're not using a virtual environment):\n",
    "\n",
    "- On macOS/Linux, run:\n",
    "\n",
    "> source qiskit-env/bin/activate\n",
    "- On Windows, run:\n",
    "\n",
    "> qiskit-env\\Scripts\\activate\n",
    "\n",
    "4. Install Qiskit:\n",
    "\n",
    "- Run the following command to install Qiskit and its dependencies:\n",
    "\n",
    "> python -m pip install qiskit\n",
    "\n",
    "5. Verify the installation:\n",
    "\n",
    "-To be certain that Qiskit is installed, run:\n",
    "\n",
    "> python -c \"import qiskit; print(qiskit.__version__)\"\n",
    "\n",
    "- If the installation is successful, the version number of Qiskit will be displayed.\n",
    "\n",
    "- Below is a reference image."
   ]
  },
  {
   "attachments": {},
   "cell_type": "markdown",
   "metadata": {},
   "source": [
    "![image](Images/Qiskit_version.png)"
   ]
  },
  {
   "attachments": {},
   "cell_type": "markdown",
   "metadata": {},
   "source": [
    "- Alternatively, the installation can be done directly inside Jupyter Notebook."
   ]
  },
  {
   "attachments": {},
   "cell_type": "markdown",
   "metadata": {},
   "source": [
    "1. Install Anaconda:\n",
    "\n",
    "- Anaconda is a popular distribution of Python that comes bundled with many useful packages and tools, including Jupyter Notebook. \n",
    "\n",
    "- You can download Anaconda from the official website: \n",
    "\n",
    "> https://www.anaconda.com/products/individual\n",
    "\n",
    "2. Launch Jupyter Notebook:\n",
    "\n",
    "- Open Anaconda Navigator, which should be installed along with Anaconda.\n",
    "\n",
    "- Click on the \"Launch\" button under Jupyter Notebook. \n",
    "\n",
    "- This will open a new tab in your web browser with the Jupyter Notebook interface.\n",
    "\n",
    "3. Create a new Jupyter Notebook:\n",
    "\n",
    "- In the Jupyter Notebook interface, click on the \"New\" button and select \"Python 3\" to create a new notebook."
   ]
  },
  {
   "attachments": {},
   "cell_type": "markdown",
   "metadata": {},
   "source": [
    "- You can equally do the same in Visual Studio Code if you prefer."
   ]
  },
  {
   "attachments": {},
   "cell_type": "markdown",
   "metadata": {},
   "source": [
    "4. Install Qiskit:\n",
    "\n",
    "- In the first cell of your Jupyter Notebook, run:\n",
    "\n",
    "> !pip install qiskit\n",
    "\n",
    "5. Verify the installation:\n",
    "\n",
    "- In the next cell of the notebook, run the following code to check if Qiskit has been installed correctly:\n",
    "\n",
    "> import qiskit\n",
    "print(qiskit.__version__)\n",
    "\n",
    "- The Qiskit version number should be displayed should the installation be successful."
   ]
  },
  {
   "attachments": {},
   "cell_type": "markdown",
   "metadata": {},
   "source": [
    "- You can also run the following code in a cell to verify the installation:\n",
    "\n",
    "> pip list\n",
    "\n",
    "- This would list all installed packages. \n",
    "\n",
    "- Check to find Qiskit among the list, thus installation is successful.\n",
    "\n",
    "- Below is an example image."
   ]
  },
  {
   "attachments": {},
   "cell_type": "markdown",
   "metadata": {},
   "source": [
    "![image](Images/pip_list.jpg)"
   ]
  },
  {
   "attachments": {},
   "cell_type": "markdown",
   "metadata": {},
   "source": [
    "- And, voila! Qiskit is installed and ready to use."
   ]
  }
 ],
 "metadata": {
  "kernelspec": {
   "display_name": "computationalphysics",
   "language": "python",
   "name": "python3"
  },
  "language_info": {
   "codemirror_mode": {
    "name": "ipython",
    "version": 3
   },
   "file_extension": ".py",
   "mimetype": "text/x-python",
   "name": "python",
   "nbconvert_exporter": "python",
   "pygments_lexer": "ipython3",
   "version": "3.11.3"
  },
  "orig_nbformat": 4
 },
 "nbformat": 4,
 "nbformat_minor": 2
}
