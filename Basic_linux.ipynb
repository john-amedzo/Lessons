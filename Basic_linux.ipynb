{
 "cells": [
  {
   "attachments": {},
   "cell_type": "markdown",
   "metadata": {},
   "source": [
    "<h1 style=\"\n",
    "font-weight: 500; \n",
    "font-size: 3rem; \n",
    "color: rgba(40, 133, 162, 0.852)\">\n",
    "Basic Linux\n",
    "</h1>"
   ]
  },
  {
   "attachments": {},
   "cell_type": "markdown",
   "metadata": {},
   "source": [
    "- Linux is a family of free and open-source operating systems based on the Linux kernel.\n",
    " \n",
    "- They come in different distributions or simply put, distros. Examples includes Ubuntu, CentOS, Fedora, RedHat etc\n",
    "\n",
    "- Linux-based operating systems depend heavily on working with the command line interface\n",
    "<p style=\"\n",
    "font-weight: 100; \n",
    "font-size: 1.7rem; \n",
    "color: rgba(40, 133, 162, 0.852)\">-CLI</p>\n",
    ", while most personal computers rely on graphical interfaces.\n"
   ]
  },
  {
   "attachments": {},
   "cell_type": "markdown",
   "metadata": {},
   "source": [
    "![image](Images/Linus_Torvald.jpg)"
   ]
  },
  {
   "attachments": {},
   "cell_type": "markdown",
   "metadata": {},
   "source": [
    "- Linus Torvald is credited as the creator of Linux though it is currently calssified as and Open Source operating system. \n",
    "\n",
    "- He still plays a critical role in its development."
   ]
  },
  {
   "attachments": {},
   "cell_type": "markdown",
   "metadata": {},
   "source": [
    "------------------------------------------------------------------------------------------------------"
   ]
  },
  {
   "attachments": {},
   "cell_type": "markdown",
   "metadata": {},
   "source": [
    "- In Windows, we are most likely to work with _GUI_ and sometimes _CLI_ mostly by system administrators and other technical users."
   ]
  },
  {
   "attachments": {},
   "cell_type": "markdown",
   "metadata": {},
   "source": [
    "- Different distributions or distros give you different GUI but the ability to use the _CLI_ in Linux makes you a super user and gives you the power to easily work your way around the operating system to do whatsoever you wish to do."
   ]
  },
  {
   "attachments": {},
   "cell_type": "markdown",
   "metadata": {},
   "source": [
    "- Linux in fact is running majority of devices we see today, from home applicances to Industry machineries, Mobile phones, Servers on the Internet, even in space..."
   ]
  },
  {
   "attachments": {},
   "cell_type": "markdown",
   "metadata": {},
   "source": [
    "<h2 style=\"\n",
    "font-weight: 300;\n",
    "color: rgba(23, 133, 23, 0.727);\n",
    "font-size: 2rem;\n",
    "\">Why Linux is a Better OS</h2>"
   ]
  },
  {
   "attachments": {},
   "cell_type": "markdown",
   "metadata": {},
   "source": [
    "<ol>\n",
    "  <li>\n",
    "    Open Source: FREEEEEEEE 😄. You have no headache of financially burdened license. Though there are still agreements. \n",
    "    <p></p>\n",
    "  </li>\n",
    "\n",
    "   <li>\n",
    "    Security: It is said that no system is 100% secured. \n",
    "    That is true but Linux is less vulnerable to attacks. Its openness leads to quick security updates. And most attackers always point to proprietary OSs like Windows and MacOS.\n",
    "    <p></p>\n",
    "  </li>\n",
    "\n",
    "   <li>\n",
    "    Software Updates: There are regular updates. And updates are faster compared to other OS platforms. \n",
    "    A simple \"single line command\" will send you to an assured, secured mode before you start your work even on the daily.\n",
    "    <p></p>\n",
    "  </li>\n",
    "\n",
    "   <li>\n",
    "    Customization: A feature that gives a major advantage over other operating systems is customization. \n",
    "    You can customize any feature, add or delete any feature according to your needs as it is an open source operating system.\n",
    "    <p></p>\n",
    "  </li>\n",
    "\n",
    "   <li>\n",
    "    The Linux OS is so light weight and takes comparatively few moments to turn on as compared to their counterparts. \n",
    "    <p></p>\n",
    "  </li>\n",
    "\n",
    "   <li>\n",
    "    The list goes on and on including but not limited to large community support, stability, privacy, peformance, network support, compactibility, etc.\n",
    "    <p></p>\n",
    "  </li>\n",
    "</ol>"
   ]
  },
  {
   "attachments": {},
   "cell_type": "markdown",
   "metadata": {},
   "source": [
    "<h2 style=\"\n",
    "font-weight: 300;\n",
    "color: rgba(23, 133, 23, 0.727);\n",
    "font-size: 2rem;\n",
    "\">Linux Installation</h2>"
   ]
  },
  {
   "attachments": {},
   "cell_type": "markdown",
   "metadata": {},
   "source": [
    "- Linux can be installed as a _guest OS_ mostly for beginners alongside your _host OS_ like Mac OS  or Windows OS.\n",
    "\n",
    "- You can also install Linux to dual boot with your currently existing OS. You will need to create a space for your Linux OS to live through partitioning your main hard drive.\n",
    "\n",
    "- To install dual boot or have Linux run solely on your computer, you will have to make Linux Bootable USB through RUFUS, PowerISO, Lili USB Creator, startup disk creator, etc."
   ]
  },
  {
   "attachments": {},
   "cell_type": "markdown",
   "metadata": {},
   "source": [
    "- So to start playing with LINUX within your current OS, these are few things you need to know how to do.\n",
    "\n",
    "<ol>\n",
    "  <li>\n",
    "    How to partition the hard drive in your Windows OS via shrinking.\n",
    "    <p></p>\n",
    "  </li>\n",
    "\n",
    "  <li>\n",
    "    How to make a Linux Bootable USB.\n",
    "    <p></p>\n",
    "  </li>\n",
    "\n",
    "  <li>\n",
    "    How to finally install Linux OS.\n",
    "    <p></p>\n",
    "  </li>\n",
    "</ol>"
   ]
  },
  {
   "attachments": {},
   "cell_type": "markdown",
   "metadata": {},
   "source": [
    "------------------------------------------------------------------------------------------------------"
   ]
  },
  {
   "attachments": {},
   "cell_type": "markdown",
   "metadata": {},
   "source": [
    "- Linux comes in different distributions and each distribution has what it is best suited for.\n",
    "\n",
    "- Fedora, Suse, CentOS, RedHat, Ubuntu, Mint, Raspbian, ...\n",
    "\n",
    "- For instance RedHat is mostly customized for Security, Raspbian mostly runs on RapberryPi, etc."
   ]
  },
  {
   "attachments": {},
   "cell_type": "markdown",
   "metadata": {},
   "source": [
    "![image](Images/Linux_distros.jpg)"
   ]
  },
  {
   "attachments": {},
   "cell_type": "markdown",
   "metadata": {},
   "source": [
    "<h2 style=\"\n",
    "font-weight: 300;\n",
    "color: rgba(23, 133, 23, 0.727);\n",
    "font-size: 2rem;\n",
    "\">Ubuntu for Linux</h2>"
   ]
  },
  {
   "attachments": {},
   "cell_type": "markdown",
   "metadata": {},
   "source": [
    "- Ubuntu is a freely available operating system to be used on both desktop and server.\n",
    "\n",
    "- Canonical who publishes Ubuntu work closely with Dell, Lenovo and HP to ensure Ubuntu works on the wide range of laptops and workstations available.\n",
    "\n",
    "- As a freely available operating system, Ubuntu will remain free and offers two types of versions. One version is long term support (LTS), comes with 5 years of support and only receives security and bug fix updates.\n",
    "\n",
    "- The other version has 6 monthly release cycles and is only supported for 9 months, this means the system is being refreshed and receiving the most up to date releases to support programs.\n",
    "\n",
    "- UBUNTU is one of the most popular distributions so far as Linux distros are concerned.\n",
    "\n",
    "- Below is the typical view of Ubuntu Desktop environment."
   ]
  },
  {
   "attachments": {},
   "cell_type": "markdown",
   "metadata": {},
   "source": [
    "![image](Images/Ubuntu_desktop.jpg)"
   ]
  },
  {
   "attachments": {},
   "cell_type": "markdown",
   "metadata": {},
   "source": [
    "- After installing, you are most likely to see the interface above; thus your desktop environment."
   ]
  },
  {
   "attachments": {},
   "cell_type": "markdown",
   "metadata": {},
   "source": [
    "#### In the diagram above, you will see the following;\n",
    "\n",
    "- Activities - allows you to search for programs, files or folders on your computer.\n",
    "\n",
    "- Dock or Launcher - seen on the left by default and holds the applications that are currently running on the system as well as file explorer.\n",
    "\n",
    "- Search - similar to the Activities, allows you to search for programs and other resources within the system. \n",
    "\n",
    "- System Indicators  - system indicators are in the top right corner and allow access to restart, power off, adjust volume and lock the screen. It is similar to notification area in Windows OS.\n",
    "\n",
    "- File Explorer - formerly called nautilus and is similar to Windows explorer.\n",
    "\n",
    "- Workspaces - are like virtual desktop environment to organize your works.\n",
    "\n",
    "- Settings - used to access the settings area, you can click on the top right systems indicators and select settings to configure anything within the system.\n",
    "\n",
    "- All the above are GUI and with little or no introduction the interface are user-friendly enough to get you along."
   ]
  },
  {
   "attachments": {},
   "cell_type": "markdown",
   "metadata": {},
   "source": [
    "<h2 style=\"\n",
    "font-weight: 300;\n",
    "color: rgba(23, 133, 23, 0.727);\n",
    "font-size: 2rem;\n",
    "\">Filesystem Hierarchy Standard</h2>"
   ]
  },
  {
   "attachments": {},
   "cell_type": "markdown",
   "metadata": {},
   "source": [
    "- Nearly all Linux distros or distributions are compliant with a universal standard for filesystem directory structure known Filesystem Hierarchy Standard (FHS).\n",
    "\n",
    "- The FHS defines a set of directories, each of which serve their own specific function.\n",
    "\n",
    "- Directories are similar to what we call _folders_ in Windows. \n",
    "\n",
    "- Just like we have several folders for keeping Program Files, Windows, Users, etc there are similar folders in Linux usually referred to as _directories_ and their naming conventions are different but serve similar purposes as seen in Windows and other OSs."
   ]
  },
  {
   "attachments": {},
   "cell_type": "markdown",
   "metadata": {},
   "source": [
    "- The forward slash / is used to indicate the root directory in the FHS.\n",
    "\n",
    "- The root directory is the same as what we will call in Windows _DRIVE C:_.\n",
    "\n",
    "- Root directory  /  once again as used in LINUX is DRIVE C: in Windows."
   ]
  },
  {
   "attachments": {},
   "cell_type": "markdown",
   "metadata": {},
   "source": [
    "- In Windows we have the CLI as the popular _Command Prompt_.\n",
    "\n",
    "- In Linux, it is usually referred to as _Terminal_ or _Shell_."
   ]
  },
  {
   "attachments": {},
   "cell_type": "markdown",
   "metadata": {},
   "source": [
    "![image](Images/Command_prompt.jpg)\n",
    "- Command Prompt or CMD"
   ]
  },
  {
   "attachments": {},
   "cell_type": "markdown",
   "metadata": {},
   "source": [
    "![image](Images/Linux_terminal.jpg)\n",
    "- Terminal or shell in Linux"
   ]
  },
  {
   "attachments": {},
   "cell_type": "markdown",
   "metadata": {},
   "source": [
    "- Today the term \"Terminal\" is used in either platforms..."
   ]
  },
  {
   "attachments": {},
   "cell_type": "markdown",
   "metadata": {},
   "source": [
    "- When a user logs into the shell, they are brought to their own user directory, stored within /home/.\n",
    "\n",
    "- There is also _root user_ which is similar to administrative account or user in Windows. \n",
    "\n",
    "- I'm sure we've once been prompted to run an application or program as admin in Windows. The common parlance in Linux is to run as root user. \n",
    "\n",
    "- So to run or execute any command as root user means you are running with administrative privileges"
   ]
  },
  {
   "attachments": {},
   "cell_type": "markdown",
   "metadata": {},
   "source": [
    "- Note that / is referred to as the _root directory_ and that is different from _root/_ which is stored within /."
   ]
  },
  {
   "attachments": {},
   "cell_type": "markdown",
   "metadata": {},
   "source": [
    "![image](Images/Ubuntu_apps.jpg)"
   ]
  },
  {
   "attachments": {},
   "cell_type": "markdown",
   "metadata": {},
   "source": [
    "- The image above shows the default applications that come with Ubuntu and, they are all free.\n",
    "\n",
    "- Nonetheless, you are at liberty to change and install your own prefered Applications and assign them as default."
   ]
  },
  {
   "attachments": {},
   "cell_type": "markdown",
   "metadata": {},
   "source": [
    "------------------------------------------------------------------------------------------------------"
   ]
  },
  {
   "attachments": {},
   "cell_type": "markdown",
   "metadata": {},
   "source": [
    "<h2 style=\"\n",
    "font-weight: 300;\n",
    "color: rgba(23, 133, 23, 0.727);\n",
    "font-size: 2rem;\n",
    "\">Terminal / Command Line Basics</h2>"
   ]
  },
  {
   "attachments": {},
   "cell_type": "markdown",
   "metadata": {},
   "source": [
    "- On Linux a lot of the commands are executed using the command line as a GUI alternative. \n",
    "\n",
    "- Some tasks can be completed using the GUI settings areas but majority of the tasks on Linux needs commands to execute.\n",
    "\n",
    "- The key points to remember when using command line are;\n",
    "  <ol>\n",
    "    <li>\n",
    "      Check capitalisation and spaces.\n",
    "      <p></p>\n",
    "    </li>\n",
    "\n",
    "    <li>\n",
    "      Enter to execute.\n",
    "      <p></p>\n",
    "    </li>\n",
    "\n",
    "    <li>\n",
    "      Ctrl + D to exit the terminal or close any commands.\n",
    "      <p></p>\n",
    "    </li>\n",
    "  </ol>\n",
    "- To open the terminal click on its icon from the Dock or launcher or search for by typing terminal in the Search and click or press Enter to launch the terminal. Voila!"
   ]
  },
  {
   "attachments": {},
   "cell_type": "markdown",
   "metadata": {},
   "source": [
    "![image](Images/Linux_terminal.jpg)\n",
    "- The above image is an instance of a terminal."
   ]
  },
  {
   "attachments": {},
   "cell_type": "markdown",
   "metadata": {},
   "source": [
    "- In the terminal above you can see a $ - sign showing that prompt is ready to accept commands from you. \n",
    "\n",
    "- Whatever you do here is limited to the account you are logged into, without administrative privileges. \n",
    "\n",
    "- If you intend to run any command at the prompt with $ sign, you will have to invoke the _sudo_ command."
   ]
  },
  {
   "attachments": {},
   "cell_type": "markdown",
   "metadata": {},
   "source": [
    "- The sudo command thus allows you to run commands as administrator as we will say in Windows.\n",
    "\n",
    "- When the sudo command is invoked permanently in a session the prompt changes to # instead of the $ sign."
   ]
  },
  {
   "attachments": {},
   "cell_type": "markdown",
   "metadata": {},
   "source": [
    "![image](Images/sudo_su.png)"
   ]
  },
  {
   "attachments": {},
   "cell_type": "markdown",
   "metadata": {},
   "source": [
    "- I logged into a session and you could see $ and when I typed \n",
    "\n",
    "> sudo su\n",
    "\n",
    "- Linux prompted me for my password which after I provided, changed the prompt to a hash thus #.\n",
    "\n",
    "- While the prompt remains with the hash, all commands I type won't require any admin privilege because I'm already in the super user mode.\n",
    "\n",
    "- You can also confirmed that before the sudo su command the username was: \n",
    "\n",
    "> john@JBs-3410\n",
    "\n",
    "- And after invoking the _sudo su_, the username is now: \n",
    "\n",
    "> root@JBs-3410"
   ]
  },
  {
   "attachments": {},
   "cell_type": "markdown",
   "metadata": {},
   "source": [
    "<h2 style=\"\n",
    "font-weight: 300;\n",
    "color: rgba(23, 133, 23, 0.727);\n",
    "font-size: 2rem;\n",
    "\">Linux Commands</h2>"
   ]
  },
  {
   "attachments": {},
   "cell_type": "markdown",
   "metadata": {},
   "source": [
    "> pwd \n",
    "\n",
    "- Means print working directory.\n",
    "\n",
    "- It prints the name of currently/working directory"
   ]
  },
  {
   "attachments": {},
   "cell_type": "markdown",
   "metadata": {},
   "source": [
    "> ls \n",
    "\n",
    "- List directory content. \n",
    "\n",
    "- It lists information about the files in the current directory by deafult, and sorts them in alphabetical order."
   ]
  },
  {
   "attachments": {},
   "cell_type": "markdown",
   "metadata": {},
   "source": [
    "![image](Images/pwd_ls.png)"
   ]
  },
  {
   "attachments": {},
   "cell_type": "markdown",
   "metadata": {},
   "source": [
    "- In the short, I typed _pwd_ to see my current directory and followed with _ls_ to see the list of the contents in alphabetical order."
   ]
  },
  {
   "attachments": {},
   "cell_type": "markdown",
   "metadata": {},
   "source": [
    "> mkdir \n",
    "\n",
    "- Make directory. \n",
    "\n",
    "- This is used to make a directory.\n",
    "\n",
    "- It is similar to creating a new folder in windows.\n",
    "\n",
    "- Invoking this command with respect to where you currently are will create a directory in that location with a given name."
   ]
  },
  {
   "attachments": {},
   "cell_type": "markdown",
   "metadata": {},
   "source": [
    "![image](Images/blank.png)"
   ]
  },
  {
   "attachments": {},
   "cell_type": "markdown",
   "metadata": {},
   "source": [
    "- In the above image, I used _mkdir Blank_ to create a directory called Blank.\n",
    "\n",
    "- I followed up with _ls_ to list the items in there.\n",
    "\n",
    "- As can be observed, the folder _Blank_ is present."
   ]
  },
  {
   "attachments": {},
   "cell_type": "markdown",
   "metadata": {},
   "source": [
    "- Currently I'm in my /home directory where we some directories including my recently created _Blank_ directory.\n",
    "\n",
    "- If I want to move into the folder called Blank, I will use the command:\n",
    "> cd \n",
    "\n",
    "- Which means change directory.\n",
    "\n",
    "- Thus:\n",
    "\n",
    "> cd Blank\n",
    "\n",
    "- Because it is an empty directory when I invoke _ls_ command I don't see anything.\n",
    "\n",
    "- Checkout the image below."
   ]
  },
  {
   "attachments": {},
   "cell_type": "markdown",
   "metadata": {},
   "source": [
    "![image](Images/cd_blank.png)"
   ]
  },
  {
   "attachments": {},
   "cell_type": "markdown",
   "metadata": {},
   "source": [
    "- When the terminal looks messy and you feel like there too many displayed text, you can always invoke:\n",
    "\n",
    "> clear \n",
    "\n",
    "- to clear the screen."
   ]
  },
  {
   "attachments": {},
   "cell_type": "markdown",
   "metadata": {},
   "source": [
    "- To go through the history of previously used commands, you can use the arrow key [UP] and [DOWN] to scroll through them."
   ]
  },
  {
   "attachments": {},
   "cell_type": "markdown",
   "metadata": {},
   "source": [
    "> cd ..    \n",
    "\n",
    "- Go back a level.\n",
    "\n",
    "> cd /    \n",
    "\n",
    "- Go back to root directory. \n",
    "\n",
    "> touch \n",
    "\n",
    "- To create a new file.\n",
    "\n",
    "> cp \n",
    "\n",
    "- For copying files and directories.\n",
    "\n",
    "> mv \n",
    "\n",
    "- For moving or renaming files.               \n",
    "\n",
    "etc."
   ]
  },
  {
   "attachments": {},
   "cell_type": "markdown",
   "metadata": {},
   "source": [
    "----------------------------------------------------------------------------------------------------------------------------"
   ]
  },
  {
   "attachments": {},
   "cell_type": "markdown",
   "metadata": {},
   "source": [
    "- There are so many ways to create a file. \n",
    "\n",
    "- You can use editors, _touch_ (which creates empty files and changes file timestamps), _nano_, etc."
   ]
  },
  {
   "attachments": {},
   "cell_type": "markdown",
   "metadata": {},
   "source": [
    "![image](Images/file_blank.png)"
   ]
  },
  {
   "attachments": {},
   "cell_type": "markdown",
   "metadata": {},
   "source": [
    "- In the image above, I created a text file named _Blank_file_ using the _touch_ command. \n",
    "\n",
    "- If I want to see the content/(s) in _Blank_file_, I can use the command:\n",
    "\n",
    "> cat Blank_file.txt"
   ]
  },
  {
   "attachments": {},
   "cell_type": "markdown",
   "metadata": {},
   "source": [
    "![image](Images/cat_blank.png)"
   ]
  },
  {
   "attachments": {},
   "cell_type": "markdown",
   "metadata": {},
   "source": [
    "- There are so many ways to push content into a file.\n",
    "\n",
    "- You can even have a GUI-like environment in the terminal by using: \n",
    "\n",
    "> nano"
   ]
  },
  {
   "attachments": {},
   "cell_type": "markdown",
   "metadata": {},
   "source": [
    "- For instance,  I can type _nano Blank_file_ and lets see what happens."
   ]
  },
  {
   "attachments": {},
   "cell_type": "markdown",
   "metadata": {},
   "source": [
    "![image](Images/nano_blank.png)"
   ]
  },
  {
   "attachments": {},
   "cell_type": "markdown",
   "metadata": {},
   "source": [
    "- This is still in the terminal but it has a GUI.\n",
    "\n",
    "- We could also input texts, since it is a text file. "
   ]
  },
  {
   "attachments": {},
   "cell_type": "markdown",
   "metadata": {},
   "source": [
    "![image](Images/modified_blank.png)"
   ]
  },
  {
   "attachments": {},
   "cell_type": "markdown",
   "metadata": {},
   "source": [
    "- Once you know your way around the terminal, the most important command to familiarize yourself with is called:\n",
    "\n",
    "> man \n",
    "\n",
    "- Which means manual.\n",
    "\n",
    "- Any command that you come across, you can have much info about it in the terminal by typing: \n",
    "\n",
    "> man [command]\n",
    "\n",
    "- Replace [command] with the command of your choice."
   ]
  },
  {
   "attachments": {},
   "cell_type": "markdown",
   "metadata": {},
   "source": [
    "![image](Images/man_mv.png)"
   ]
  },
  {
   "attachments": {},
   "cell_type": "markdown",
   "metadata": {},
   "source": [
    "![image](Images/mv_info.png)"
   ]
  },
  {
   "cell_type": "markdown",
   "metadata": {},
   "source": []
  }
 ],
 "metadata": {
  "kernelspec": {
   "display_name": "Python 3",
   "language": "python",
   "name": "python3"
  },
  "language_info": {
   "codemirror_mode": {
    "name": "ipython",
    "version": 3
   },
   "file_extension": ".py",
   "mimetype": "text/x-python",
   "name": "python",
   "nbconvert_exporter": "python",
   "pygments_lexer": "ipython3",
   "version": "3.11.3"
  },
  "orig_nbformat": 4
 },
 "nbformat": 4,
 "nbformat_minor": 2
}
